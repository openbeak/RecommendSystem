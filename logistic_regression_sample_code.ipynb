{
 "cells": [
  {
   "cell_type": "code",
   "execution_count": 5,
   "metadata": {},
   "outputs": [
    {
     "name": "stdout",
     "output_type": "stream",
     "text": [
      "Automatically created module for IPython interactive environment\n"
     ]
    }
   ],
   "source": [
    "print(__doc__)"
   ]
  },
  {
   "cell_type": "code",
   "execution_count": 19,
   "metadata": {},
   "outputs": [],
   "source": [
    "from sklearn.linear_model import LogisticRegression\n",
    "import numpy as np"
   ]
  },
  {
   "cell_type": "markdown",
   "metadata": {},
   "source": [
    "index (문제 번호)를 풀었는지, 못 풀었는지 리스트"
   ]
  },
  {
   "cell_type": "markdown",
   "metadata": {},
   "source": [
    "0 = fail, 1 = solved"
   ]
  },
  {
   "cell_type": "code",
   "execution_count": 27,
   "metadata": {},
   "outputs": [
    {
     "name": "stdout",
     "output_type": "stream",
     "text": [
      "(5,)\n"
     ]
    }
   ],
   "source": [
    "a = np.array([[0,0,0,0],\n",
    "   [0,1,0,0],\n",
    "   [1,1,0,0],\n",
    "   [1,0,0,0],\n",
    "   [1,1,1,1]])\n",
    "b = np.array([0,0,1,1,1])\n",
    "print(b.shape)"
   ]
  },
  {
   "cell_type": "code",
   "execution_count": 23,
   "metadata": {},
   "outputs": [
    {
     "name": "stdout",
     "output_type": "stream",
     "text": [
      "<class 'int'>\n",
      "<class 'int'>\n",
      "5\n",
      "5\n"
     ]
    }
   ],
   "source": [
    "# 행 : 사람 5명\n",
    "# 열 : 각 사람에 대해 1~4번 문제 푼 여부\n",
    "X=[[0,0,0,0],\n",
    "   [0,1,0,0],\n",
    "   [1,1,0,0],\n",
    "   [1,0,0,0],\n",
    "   [1,1,1,1]]\n",
    "\n",
    "# 이 문제에 대해 5명의 사람이 풀 수 있는가?\n",
    "Y=[0,0,1,1,1]\n",
    "print(type(X[0][0]))\n",
    "print(type(Y[0]))\n",
    "print(len(X))\n",
    "print(len(Y))"
   ]
  },
  {
   "cell_type": "code",
   "execution_count": 8,
   "metadata": {},
   "outputs": [],
   "source": [
    "# 1e2 = 1 * 10^2\n",
    "logreg = LogisticRegression(C=1e2, solver='lbfgs', multi_class='multinomial')"
   ]
  },
  {
   "cell_type": "code",
   "execution_count": 25,
   "metadata": {},
   "outputs": [
    {
     "data": {
      "text/plain": [
       "LogisticRegression(C=100.0, class_weight=None, dual=False, fit_intercept=True,\n",
       "                   intercept_scaling=1, l1_ratio=None, max_iter=100,\n",
       "                   multi_class='multinomial', n_jobs=None, penalty='l2',\n",
       "                   random_state=None, solver='lbfgs', tol=0.0001, verbose=0,\n",
       "                   warm_start=False)"
      ]
     },
     "execution_count": 25,
     "metadata": {},
     "output_type": "execute_result"
    }
   ],
   "source": [
    "# Create an instance of Logistic Regression Classifier and fit the data\n",
    "logreg.fit(X,Y)"
   ]
  },
  {
   "cell_type": "code",
   "execution_count": 10,
   "metadata": {},
   "outputs": [
    {
     "name": "stdout",
     "output_type": "stream",
     "text": [
      "[[0.96021576 0.03978424]\n",
      " [0.91223718 0.08776282]\n",
      " [0.00380119 0.99619881]\n",
      " [0.00810036 0.99189964]]\n"
     ]
    }
   ],
   "source": [
    "# [틀릴 확률, 맞출 확률]\n",
    "print(logreg.predict_proba([[0,0,0,1],[0,1,1,1],[1,1,1,1],[1,1,1,0]]))"
   ]
  },
  {
   "cell_type": "code",
   "execution_count": 11,
   "metadata": {},
   "outputs": [
    {
     "name": "stdout",
     "output_type": "stream",
     "text": [
      "[0 0 1 1]\n"
     ]
    }
   ],
   "source": [
    "print(logreg.predict([[0,0,0,1],[0,1,1,1],[1,1,1,1],[1,1,1,0]]))"
   ]
  }
 ],
 "metadata": {
  "kernelspec": {
   "display_name": "Python 3",
   "language": "python",
   "name": "python3"
  },
  "language_info": {
   "codemirror_mode": {
    "name": "ipython",
    "version": 3
   },
   "file_extension": ".py",
   "mimetype": "text/x-python",
   "name": "python",
   "nbconvert_exporter": "python",
   "pygments_lexer": "ipython3",
   "version": "3.6.8"
  }
 },
 "nbformat": 4,
 "nbformat_minor": 2
}
